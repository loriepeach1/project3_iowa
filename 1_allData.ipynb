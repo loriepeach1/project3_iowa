{
 "cells": [
  {
   "cell_type": "code",
   "execution_count": 50,
   "metadata": {},
   "outputs": [],
   "source": [
    "#This notebook is used to create a df for only the football months Aug - Nov\n",
    "#Begin with the full dataset.\n",
    "#clean/format the data\n",
    "#export the final dataframe of football season data data to a csv which will be used in a new notebook."
   ]
  },
  {
   "cell_type": "code",
   "execution_count": 51,
   "metadata": {
    "collapsed": true,
    "slideshow": {
     "slide_type": "slide"
    }
   },
   "outputs": [],
   "source": [
    "import warnings\n",
    "warnings.simplefilter('ignore')\n",
    "\n",
    "%matplotlib inline\n",
    "import matplotlib.pyplot as plt\n",
    "import numpy as np\n",
    "import pandas as pd\n",
    "import datetime as dt"
   ]
  },
  {
   "cell_type": "markdown",
   "metadata": {},
   "source": [
    "### Explore the Data"
   ]
  },
  {
   "cell_type": "code",
   "execution_count": 52,
   "metadata": {},
   "outputs": [],
   "source": [
    "# Read the csv file into a pandas DataFrame\n",
    "allData = pd.read_csv('data/Iowa_Liquor_Sales.csv')\n"
   ]
  },
  {
   "cell_type": "code",
   "execution_count": 53,
   "metadata": {},
   "outputs": [
    {
     "data": {
      "text/html": [
       "<div>\n",
       "<style scoped>\n",
       "    .dataframe tbody tr th:only-of-type {\n",
       "        vertical-align: middle;\n",
       "    }\n",
       "\n",
       "    .dataframe tbody tr th {\n",
       "        vertical-align: top;\n",
       "    }\n",
       "\n",
       "    .dataframe thead th {\n",
       "        text-align: right;\n",
       "    }\n",
       "</style>\n",
       "<table border=\"1\" class=\"dataframe\">\n",
       "  <thead>\n",
       "    <tr style=\"text-align: right;\">\n",
       "      <th></th>\n",
       "      <th>Invoice/Item Number</th>\n",
       "      <th>Date</th>\n",
       "      <th>Store Number</th>\n",
       "      <th>Store Name</th>\n",
       "      <th>Address</th>\n",
       "      <th>City</th>\n",
       "      <th>Zip Code</th>\n",
       "      <th>Store Location</th>\n",
       "      <th>County Number</th>\n",
       "      <th>County</th>\n",
       "      <th>...</th>\n",
       "      <th>State Bottle Retail</th>\n",
       "      <th>Bottles Sold</th>\n",
       "      <th>Sale (Dollars)</th>\n",
       "      <th>Volume Sold (Liters)</th>\n",
       "      <th>Volume Sold (Gallons)</th>\n",
       "      <th>Iowa ZIP Code Tabulation Areas</th>\n",
       "      <th>Iowa Watershed Sub-Basins (HUC 08)</th>\n",
       "      <th>Iowa Watersheds (HUC 10)</th>\n",
       "      <th>County Boundaries of Iowa</th>\n",
       "      <th>US Counties</th>\n",
       "    </tr>\n",
       "  </thead>\n",
       "  <tbody>\n",
       "    <tr>\n",
       "      <th>0</th>\n",
       "      <td>S23100600051</td>\n",
       "      <td>12/20/2014</td>\n",
       "      <td>2629</td>\n",
       "      <td>Hy-Vee Food Store #2 / Council Bluff</td>\n",
       "      <td>1745 MADISON AVE</td>\n",
       "      <td>COUNCIL BLUFFS</td>\n",
       "      <td>51503</td>\n",
       "      <td>POINT (-95.825137 41.242732)</td>\n",
       "      <td>78.0</td>\n",
       "      <td>Pottawattamie</td>\n",
       "      <td>...</td>\n",
       "      <td>30.00</td>\n",
       "      <td>6</td>\n",
       "      <td>180.0</td>\n",
       "      <td>4.50</td>\n",
       "      <td>1.19</td>\n",
       "      <td>817.0</td>\n",
       "      <td>40.0</td>\n",
       "      <td>236.0</td>\n",
       "      <td>69.0</td>\n",
       "      <td>1879.0</td>\n",
       "    </tr>\n",
       "    <tr>\n",
       "      <th>1</th>\n",
       "      <td>S22940400072</td>\n",
       "      <td>12/15/2014</td>\n",
       "      <td>2601</td>\n",
       "      <td>Hy-Vee Food Store / Fairfield</td>\n",
       "      <td>1300 WEST BURLINGTON AVE</td>\n",
       "      <td>FAIRFIELD</td>\n",
       "      <td>52556</td>\n",
       "      <td>POINT (-91.978702 41.006456)</td>\n",
       "      <td>51.0</td>\n",
       "      <td>Jefferson</td>\n",
       "      <td>...</td>\n",
       "      <td>31.50</td>\n",
       "      <td>2</td>\n",
       "      <td>63.0</td>\n",
       "      <td>1.50</td>\n",
       "      <td>0.40</td>\n",
       "      <td>326.0</td>\n",
       "      <td>13.0</td>\n",
       "      <td>147.0</td>\n",
       "      <td>83.0</td>\n",
       "      <td>285.0</td>\n",
       "    </tr>\n",
       "    <tr>\n",
       "      <th>2</th>\n",
       "      <td>S04020500025</td>\n",
       "      <td>02/09/2012</td>\n",
       "      <td>2636</td>\n",
       "      <td>Hy-Vee Wine and Spirits / Hubbell</td>\n",
       "      <td>2310 HUBBELL AVE</td>\n",
       "      <td>DES MOINES</td>\n",
       "      <td>50317</td>\n",
       "      <td>POINT (-93.573844 41.604313)</td>\n",
       "      <td>77.0</td>\n",
       "      <td>Polk</td>\n",
       "      <td>...</td>\n",
       "      <td>11.25</td>\n",
       "      <td>12</td>\n",
       "      <td>135.0</td>\n",
       "      <td>12.00</td>\n",
       "      <td>3.17</td>\n",
       "      <td>87.0</td>\n",
       "      <td>29.0</td>\n",
       "      <td>356.0</td>\n",
       "      <td>64.0</td>\n",
       "      <td>1878.0</td>\n",
       "    </tr>\n",
       "    <tr>\n",
       "      <th>3</th>\n",
       "      <td>S20489400023</td>\n",
       "      <td>08/05/2014</td>\n",
       "      <td>4602</td>\n",
       "      <td>Cheap Smokes / Beer City</td>\n",
       "      <td>58231 190th ST</td>\n",
       "      <td>PACIFIC JUNCTION</td>\n",
       "      <td>51561</td>\n",
       "      <td>POINT (-95.822954 41.041825)</td>\n",
       "      <td>65.0</td>\n",
       "      <td>Mills</td>\n",
       "      <td>...</td>\n",
       "      <td>22.50</td>\n",
       "      <td>1</td>\n",
       "      <td>22.5</td>\n",
       "      <td>1.00</td>\n",
       "      <td>0.26</td>\n",
       "      <td>545.0</td>\n",
       "      <td>42.0</td>\n",
       "      <td>250.0</td>\n",
       "      <td>79.0</td>\n",
       "      <td>1832.0</td>\n",
       "    </tr>\n",
       "    <tr>\n",
       "      <th>4</th>\n",
       "      <td>S27726700099</td>\n",
       "      <td>09/04/2015</td>\n",
       "      <td>2191</td>\n",
       "      <td>Keokuk Spirits</td>\n",
       "      <td>1013 MAIN</td>\n",
       "      <td>KEOKUK</td>\n",
       "      <td>52632</td>\n",
       "      <td>POINT (-91.387531 40.39978)</td>\n",
       "      <td>56.0</td>\n",
       "      <td>Lee</td>\n",
       "      <td>...</td>\n",
       "      <td>25.50</td>\n",
       "      <td>1</td>\n",
       "      <td>25.5</td>\n",
       "      <td>0.75</td>\n",
       "      <td>0.20</td>\n",
       "      <td>806.0</td>\n",
       "      <td>10.0</td>\n",
       "      <td>121.0</td>\n",
       "      <td>99.0</td>\n",
       "      <td>1827.0</td>\n",
       "    </tr>\n",
       "  </tbody>\n",
       "</table>\n",
       "<p>5 rows × 29 columns</p>\n",
       "</div>"
      ],
      "text/plain": [
       "  Invoice/Item Number        Date  Store Number  \\\n",
       "0        S23100600051  12/20/2014          2629   \n",
       "1        S22940400072  12/15/2014          2601   \n",
       "2        S04020500025  02/09/2012          2636   \n",
       "3        S20489400023  08/05/2014          4602   \n",
       "4        S27726700099  09/04/2015          2191   \n",
       "\n",
       "                             Store Name                   Address  \\\n",
       "0  Hy-Vee Food Store #2 / Council Bluff          1745 MADISON AVE   \n",
       "1         Hy-Vee Food Store / Fairfield  1300 WEST BURLINGTON AVE   \n",
       "2     Hy-Vee Wine and Spirits / Hubbell          2310 HUBBELL AVE   \n",
       "3              Cheap Smokes / Beer City            58231 190th ST   \n",
       "4                        Keokuk Spirits                 1013 MAIN   \n",
       "\n",
       "               City Zip Code                Store Location  County Number  \\\n",
       "0    COUNCIL BLUFFS    51503  POINT (-95.825137 41.242732)           78.0   \n",
       "1         FAIRFIELD    52556  POINT (-91.978702 41.006456)           51.0   \n",
       "2        DES MOINES    50317  POINT (-93.573844 41.604313)           77.0   \n",
       "3  PACIFIC JUNCTION    51561  POINT (-95.822954 41.041825)           65.0   \n",
       "4            KEOKUK    52632   POINT (-91.387531 40.39978)           56.0   \n",
       "\n",
       "          County  ...  State Bottle Retail Bottles Sold  Sale (Dollars)  \\\n",
       "0  Pottawattamie  ...                30.00            6           180.0   \n",
       "1      Jefferson  ...                31.50            2            63.0   \n",
       "2           Polk  ...                11.25           12           135.0   \n",
       "3          Mills  ...                22.50            1            22.5   \n",
       "4            Lee  ...                25.50            1            25.5   \n",
       "\n",
       "  Volume Sold (Liters) Volume Sold (Gallons) Iowa ZIP Code Tabulation Areas  \\\n",
       "0                 4.50                  1.19                          817.0   \n",
       "1                 1.50                  0.40                          326.0   \n",
       "2                12.00                  3.17                           87.0   \n",
       "3                 1.00                  0.26                          545.0   \n",
       "4                 0.75                  0.20                          806.0   \n",
       "\n",
       "   Iowa Watershed Sub-Basins (HUC 08)  Iowa Watersheds (HUC 10)  \\\n",
       "0                                40.0                     236.0   \n",
       "1                                13.0                     147.0   \n",
       "2                                29.0                     356.0   \n",
       "3                                42.0                     250.0   \n",
       "4                                10.0                     121.0   \n",
       "\n",
       "   County Boundaries of Iowa  US Counties  \n",
       "0                       69.0       1879.0  \n",
       "1                       83.0        285.0  \n",
       "2                       64.0       1878.0  \n",
       "3                       79.0       1832.0  \n",
       "4                       99.0       1827.0  \n",
       "\n",
       "[5 rows x 29 columns]"
      ]
     },
     "execution_count": 53,
     "metadata": {},
     "output_type": "execute_result"
    }
   ],
   "source": [
    "allData.head()"
   ]
  },
  {
   "cell_type": "code",
   "execution_count": 54,
   "metadata": {},
   "outputs": [],
   "source": [
    "# allData.describe()"
   ]
  },
  {
   "cell_type": "code",
   "execution_count": 55,
   "metadata": {},
   "outputs": [
    {
     "data": {
      "text/plain": [
       "Invoice/Item Number                    object\n",
       "Date                                   object\n",
       "Store Number                            int64\n",
       "Store Name                             object\n",
       "Address                                object\n",
       "City                                   object\n",
       "Zip Code                               object\n",
       "Store Location                         object\n",
       "County Number                         float64\n",
       "County                                 object\n",
       "Category                              float64\n",
       "Category Name                          object\n",
       "Vendor Number                         float64\n",
       "Vendor Name                            object\n",
       "Item Number                            object\n",
       "Item Description                       object\n",
       "Pack                                    int64\n",
       "Bottle Volume (ml)                      int64\n",
       "State Bottle Cost                     float64\n",
       "State Bottle Retail                   float64\n",
       "Bottles Sold                            int64\n",
       "Sale (Dollars)                        float64\n",
       "Volume Sold (Liters)                  float64\n",
       "Volume Sold (Gallons)                 float64\n",
       "Iowa ZIP Code Tabulation Areas        float64\n",
       "Iowa Watershed Sub-Basins (HUC 08)    float64\n",
       "Iowa Watersheds (HUC 10)              float64\n",
       "County Boundaries of Iowa             float64\n",
       "US Counties                           float64\n",
       "dtype: object"
      ]
     },
     "execution_count": 55,
     "metadata": {},
     "output_type": "execute_result"
    }
   ],
   "source": [
    "allData.dtypes"
   ]
  },
  {
   "cell_type": "code",
   "execution_count": 56,
   "metadata": {},
   "outputs": [
    {
     "data": {
      "text/html": [
       "<div>\n",
       "<style scoped>\n",
       "    .dataframe tbody tr th:only-of-type {\n",
       "        vertical-align: middle;\n",
       "    }\n",
       "\n",
       "    .dataframe tbody tr th {\n",
       "        vertical-align: top;\n",
       "    }\n",
       "\n",
       "    .dataframe thead th {\n",
       "        text-align: right;\n",
       "    }\n",
       "</style>\n",
       "<table border=\"1\" class=\"dataframe\">\n",
       "  <thead>\n",
       "    <tr style=\"text-align: right;\">\n",
       "      <th></th>\n",
       "      <th>Invoice/Item Number</th>\n",
       "      <th>Date</th>\n",
       "      <th>Store Number</th>\n",
       "      <th>Store Name</th>\n",
       "      <th>Address</th>\n",
       "      <th>City</th>\n",
       "      <th>Zip Code</th>\n",
       "      <th>Store Location</th>\n",
       "      <th>County Number</th>\n",
       "      <th>County</th>\n",
       "      <th>...</th>\n",
       "      <th>State Bottle Retail</th>\n",
       "      <th>Bottles Sold</th>\n",
       "      <th>Sale (Dollars)</th>\n",
       "      <th>Volume Sold (Liters)</th>\n",
       "      <th>Volume Sold (Gallons)</th>\n",
       "      <th>Iowa ZIP Code Tabulation Areas</th>\n",
       "      <th>Iowa Watershed Sub-Basins (HUC 08)</th>\n",
       "      <th>Iowa Watersheds (HUC 10)</th>\n",
       "      <th>County Boundaries of Iowa</th>\n",
       "      <th>US Counties</th>\n",
       "    </tr>\n",
       "  </thead>\n",
       "  <tbody>\n",
       "    <tr>\n",
       "      <th>0</th>\n",
       "      <td>S23100600051</td>\n",
       "      <td>12/20/2014</td>\n",
       "      <td>2629</td>\n",
       "      <td>Hy-Vee Food Store #2 / Council Bluff</td>\n",
       "      <td>1745 MADISON AVE</td>\n",
       "      <td>COUNCIL BLUFFS</td>\n",
       "      <td>51503</td>\n",
       "      <td>POINT (-95.825137 41.242732)</td>\n",
       "      <td>78.0</td>\n",
       "      <td>Pottawattamie</td>\n",
       "      <td>...</td>\n",
       "      <td>30.00</td>\n",
       "      <td>6</td>\n",
       "      <td>180.0</td>\n",
       "      <td>4.50</td>\n",
       "      <td>1.19</td>\n",
       "      <td>817.0</td>\n",
       "      <td>40.0</td>\n",
       "      <td>236.0</td>\n",
       "      <td>69.0</td>\n",
       "      <td>1879.0</td>\n",
       "    </tr>\n",
       "    <tr>\n",
       "      <th>1</th>\n",
       "      <td>S22940400072</td>\n",
       "      <td>12/15/2014</td>\n",
       "      <td>2601</td>\n",
       "      <td>Hy-Vee Food Store / Fairfield</td>\n",
       "      <td>1300 WEST BURLINGTON AVE</td>\n",
       "      <td>FAIRFIELD</td>\n",
       "      <td>52556</td>\n",
       "      <td>POINT (-91.978702 41.006456)</td>\n",
       "      <td>51.0</td>\n",
       "      <td>Jefferson</td>\n",
       "      <td>...</td>\n",
       "      <td>31.50</td>\n",
       "      <td>2</td>\n",
       "      <td>63.0</td>\n",
       "      <td>1.50</td>\n",
       "      <td>0.40</td>\n",
       "      <td>326.0</td>\n",
       "      <td>13.0</td>\n",
       "      <td>147.0</td>\n",
       "      <td>83.0</td>\n",
       "      <td>285.0</td>\n",
       "    </tr>\n",
       "    <tr>\n",
       "      <th>2</th>\n",
       "      <td>S04020500025</td>\n",
       "      <td>02/09/2012</td>\n",
       "      <td>2636</td>\n",
       "      <td>Hy-Vee Wine and Spirits / Hubbell</td>\n",
       "      <td>2310 HUBBELL AVE</td>\n",
       "      <td>DES MOINES</td>\n",
       "      <td>50317</td>\n",
       "      <td>POINT (-93.573844 41.604313)</td>\n",
       "      <td>77.0</td>\n",
       "      <td>Polk</td>\n",
       "      <td>...</td>\n",
       "      <td>11.25</td>\n",
       "      <td>12</td>\n",
       "      <td>135.0</td>\n",
       "      <td>12.00</td>\n",
       "      <td>3.17</td>\n",
       "      <td>87.0</td>\n",
       "      <td>29.0</td>\n",
       "      <td>356.0</td>\n",
       "      <td>64.0</td>\n",
       "      <td>1878.0</td>\n",
       "    </tr>\n",
       "    <tr>\n",
       "      <th>3</th>\n",
       "      <td>S20489400023</td>\n",
       "      <td>08/05/2014</td>\n",
       "      <td>4602</td>\n",
       "      <td>Cheap Smokes / Beer City</td>\n",
       "      <td>58231 190th ST</td>\n",
       "      <td>PACIFIC JUNCTION</td>\n",
       "      <td>51561</td>\n",
       "      <td>POINT (-95.822954 41.041825)</td>\n",
       "      <td>65.0</td>\n",
       "      <td>Mills</td>\n",
       "      <td>...</td>\n",
       "      <td>22.50</td>\n",
       "      <td>1</td>\n",
       "      <td>22.5</td>\n",
       "      <td>1.00</td>\n",
       "      <td>0.26</td>\n",
       "      <td>545.0</td>\n",
       "      <td>42.0</td>\n",
       "      <td>250.0</td>\n",
       "      <td>79.0</td>\n",
       "      <td>1832.0</td>\n",
       "    </tr>\n",
       "    <tr>\n",
       "      <th>4</th>\n",
       "      <td>S27726700099</td>\n",
       "      <td>09/04/2015</td>\n",
       "      <td>2191</td>\n",
       "      <td>Keokuk Spirits</td>\n",
       "      <td>1013 MAIN</td>\n",
       "      <td>KEOKUK</td>\n",
       "      <td>52632</td>\n",
       "      <td>POINT (-91.387531 40.39978)</td>\n",
       "      <td>56.0</td>\n",
       "      <td>Lee</td>\n",
       "      <td>...</td>\n",
       "      <td>25.50</td>\n",
       "      <td>1</td>\n",
       "      <td>25.5</td>\n",
       "      <td>0.75</td>\n",
       "      <td>0.20</td>\n",
       "      <td>806.0</td>\n",
       "      <td>10.0</td>\n",
       "      <td>121.0</td>\n",
       "      <td>99.0</td>\n",
       "      <td>1827.0</td>\n",
       "    </tr>\n",
       "  </tbody>\n",
       "</table>\n",
       "<p>5 rows × 29 columns</p>\n",
       "</div>"
      ],
      "text/plain": [
       "  Invoice/Item Number        Date  Store Number  \\\n",
       "0        S23100600051  12/20/2014          2629   \n",
       "1        S22940400072  12/15/2014          2601   \n",
       "2        S04020500025  02/09/2012          2636   \n",
       "3        S20489400023  08/05/2014          4602   \n",
       "4        S27726700099  09/04/2015          2191   \n",
       "\n",
       "                             Store Name                   Address  \\\n",
       "0  Hy-Vee Food Store #2 / Council Bluff          1745 MADISON AVE   \n",
       "1         Hy-Vee Food Store / Fairfield  1300 WEST BURLINGTON AVE   \n",
       "2     Hy-Vee Wine and Spirits / Hubbell          2310 HUBBELL AVE   \n",
       "3              Cheap Smokes / Beer City            58231 190th ST   \n",
       "4                        Keokuk Spirits                 1013 MAIN   \n",
       "\n",
       "               City Zip Code                Store Location  County Number  \\\n",
       "0    COUNCIL BLUFFS    51503  POINT (-95.825137 41.242732)           78.0   \n",
       "1         FAIRFIELD    52556  POINT (-91.978702 41.006456)           51.0   \n",
       "2        DES MOINES    50317  POINT (-93.573844 41.604313)           77.0   \n",
       "3  PACIFIC JUNCTION    51561  POINT (-95.822954 41.041825)           65.0   \n",
       "4            KEOKUK    52632   POINT (-91.387531 40.39978)           56.0   \n",
       "\n",
       "          County  ...  State Bottle Retail Bottles Sold  Sale (Dollars)  \\\n",
       "0  Pottawattamie  ...                30.00            6           180.0   \n",
       "1      Jefferson  ...                31.50            2            63.0   \n",
       "2           Polk  ...                11.25           12           135.0   \n",
       "3          Mills  ...                22.50            1            22.5   \n",
       "4            Lee  ...                25.50            1            25.5   \n",
       "\n",
       "  Volume Sold (Liters) Volume Sold (Gallons) Iowa ZIP Code Tabulation Areas  \\\n",
       "0                 4.50                  1.19                          817.0   \n",
       "1                 1.50                  0.40                          326.0   \n",
       "2                12.00                  3.17                           87.0   \n",
       "3                 1.00                  0.26                          545.0   \n",
       "4                 0.75                  0.20                          806.0   \n",
       "\n",
       "   Iowa Watershed Sub-Basins (HUC 08)  Iowa Watersheds (HUC 10)  \\\n",
       "0                                40.0                     236.0   \n",
       "1                                13.0                     147.0   \n",
       "2                                29.0                     356.0   \n",
       "3                                42.0                     250.0   \n",
       "4                                10.0                     121.0   \n",
       "\n",
       "   County Boundaries of Iowa  US Counties  \n",
       "0                       69.0       1879.0  \n",
       "1                       83.0        285.0  \n",
       "2                       64.0       1878.0  \n",
       "3                       79.0       1832.0  \n",
       "4                       99.0       1827.0  \n",
       "\n",
       "[5 rows x 29 columns]"
      ]
     },
     "execution_count": 56,
     "metadata": {},
     "output_type": "execute_result"
    }
   ],
   "source": [
    "allData.head()"
   ]
  },
  {
   "cell_type": "code",
   "execution_count": 57,
   "metadata": {},
   "outputs": [
    {
     "data": {
      "text/plain": [
       "16670724"
      ]
     },
     "execution_count": 57,
     "metadata": {},
     "output_type": "execute_result"
    }
   ],
   "source": [
    "#total records in the dataframe\n",
    "len(allData.index)"
   ]
  },
  {
   "cell_type": "code",
   "execution_count": 58,
   "metadata": {},
   "outputs": [
    {
     "data": {
      "text/plain": [
       "(16670724, 29)"
      ]
     },
     "execution_count": 58,
     "metadata": {},
     "output_type": "execute_result"
    }
   ],
   "source": [
    "#how many rows and columns?\n",
    "allData.shape"
   ]
  },
  {
   "cell_type": "code",
   "execution_count": 59,
   "metadata": {},
   "outputs": [],
   "source": [
    "#change the month datatype\n",
    "allData['Date'] = pd.to_datetime(allData['Date'])"
   ]
  },
  {
   "cell_type": "code",
   "execution_count": 60,
   "metadata": {},
   "outputs": [
    {
     "data": {
      "text/plain": [
       "Invoice/Item Number                           object\n",
       "Date                                  datetime64[ns]\n",
       "Store Number                                   int64\n",
       "Store Name                                    object\n",
       "Address                                       object\n",
       "City                                          object\n",
       "Zip Code                                      object\n",
       "Store Location                                object\n",
       "County Number                                float64\n",
       "County                                        object\n",
       "Category                                     float64\n",
       "Category Name                                 object\n",
       "Vendor Number                                float64\n",
       "Vendor Name                                   object\n",
       "Item Number                                   object\n",
       "Item Description                              object\n",
       "Pack                                           int64\n",
       "Bottle Volume (ml)                             int64\n",
       "State Bottle Cost                            float64\n",
       "State Bottle Retail                          float64\n",
       "Bottles Sold                                   int64\n",
       "Sale (Dollars)                               float64\n",
       "Volume Sold (Liters)                         float64\n",
       "Volume Sold (Gallons)                        float64\n",
       "Iowa ZIP Code Tabulation Areas               float64\n",
       "Iowa Watershed Sub-Basins (HUC 08)           float64\n",
       "Iowa Watersheds (HUC 10)                     float64\n",
       "County Boundaries of Iowa                    float64\n",
       "US Counties                                  float64\n",
       "dtype: object"
      ]
     },
     "execution_count": 60,
     "metadata": {},
     "output_type": "execute_result"
    }
   ],
   "source": [
    "allData.dtypes"
   ]
  },
  {
   "cell_type": "code",
   "execution_count": 61,
   "metadata": {},
   "outputs": [
    {
     "name": "stdout",
     "output_type": "stream",
     "text": [
      "RangeIndex(start=0, stop=16670724, step=1)\n"
     ]
    }
   ],
   "source": [
    "print(allData.index)"
   ]
  },
  {
   "cell_type": "code",
   "execution_count": 62,
   "metadata": {},
   "outputs": [],
   "source": [
    "#change the index of the df to the Date\n",
    "#allData.set_index(allData[\"Date\"],inplace=True)"
   ]
  },
  {
   "cell_type": "code",
   "execution_count": 63,
   "metadata": {},
   "outputs": [
    {
     "data": {
      "text/html": [
       "<div>\n",
       "<style scoped>\n",
       "    .dataframe tbody tr th:only-of-type {\n",
       "        vertical-align: middle;\n",
       "    }\n",
       "\n",
       "    .dataframe tbody tr th {\n",
       "        vertical-align: top;\n",
       "    }\n",
       "\n",
       "    .dataframe thead th {\n",
       "        text-align: right;\n",
       "    }\n",
       "</style>\n",
       "<table border=\"1\" class=\"dataframe\">\n",
       "  <thead>\n",
       "    <tr style=\"text-align: right;\">\n",
       "      <th></th>\n",
       "      <th>Invoice/Item Number</th>\n",
       "      <th>Date</th>\n",
       "      <th>Store Number</th>\n",
       "      <th>Store Name</th>\n",
       "      <th>Address</th>\n",
       "      <th>City</th>\n",
       "      <th>Zip Code</th>\n",
       "      <th>Store Location</th>\n",
       "      <th>County Number</th>\n",
       "      <th>County</th>\n",
       "      <th>...</th>\n",
       "      <th>State Bottle Retail</th>\n",
       "      <th>Bottles Sold</th>\n",
       "      <th>Sale (Dollars)</th>\n",
       "      <th>Volume Sold (Liters)</th>\n",
       "      <th>Volume Sold (Gallons)</th>\n",
       "      <th>Iowa ZIP Code Tabulation Areas</th>\n",
       "      <th>Iowa Watershed Sub-Basins (HUC 08)</th>\n",
       "      <th>Iowa Watersheds (HUC 10)</th>\n",
       "      <th>County Boundaries of Iowa</th>\n",
       "      <th>US Counties</th>\n",
       "    </tr>\n",
       "  </thead>\n",
       "  <tbody>\n",
       "    <tr>\n",
       "      <th>0</th>\n",
       "      <td>S23100600051</td>\n",
       "      <td>2014-12-20</td>\n",
       "      <td>2629</td>\n",
       "      <td>Hy-Vee Food Store #2 / Council Bluff</td>\n",
       "      <td>1745 MADISON AVE</td>\n",
       "      <td>COUNCIL BLUFFS</td>\n",
       "      <td>51503</td>\n",
       "      <td>POINT (-95.825137 41.242732)</td>\n",
       "      <td>78.0</td>\n",
       "      <td>Pottawattamie</td>\n",
       "      <td>...</td>\n",
       "      <td>30.00</td>\n",
       "      <td>6</td>\n",
       "      <td>180.0</td>\n",
       "      <td>4.50</td>\n",
       "      <td>1.19</td>\n",
       "      <td>817.0</td>\n",
       "      <td>40.0</td>\n",
       "      <td>236.0</td>\n",
       "      <td>69.0</td>\n",
       "      <td>1879.0</td>\n",
       "    </tr>\n",
       "    <tr>\n",
       "      <th>1</th>\n",
       "      <td>S22940400072</td>\n",
       "      <td>2014-12-15</td>\n",
       "      <td>2601</td>\n",
       "      <td>Hy-Vee Food Store / Fairfield</td>\n",
       "      <td>1300 WEST BURLINGTON AVE</td>\n",
       "      <td>FAIRFIELD</td>\n",
       "      <td>52556</td>\n",
       "      <td>POINT (-91.978702 41.006456)</td>\n",
       "      <td>51.0</td>\n",
       "      <td>Jefferson</td>\n",
       "      <td>...</td>\n",
       "      <td>31.50</td>\n",
       "      <td>2</td>\n",
       "      <td>63.0</td>\n",
       "      <td>1.50</td>\n",
       "      <td>0.40</td>\n",
       "      <td>326.0</td>\n",
       "      <td>13.0</td>\n",
       "      <td>147.0</td>\n",
       "      <td>83.0</td>\n",
       "      <td>285.0</td>\n",
       "    </tr>\n",
       "    <tr>\n",
       "      <th>2</th>\n",
       "      <td>S04020500025</td>\n",
       "      <td>2012-02-09</td>\n",
       "      <td>2636</td>\n",
       "      <td>Hy-Vee Wine and Spirits / Hubbell</td>\n",
       "      <td>2310 HUBBELL AVE</td>\n",
       "      <td>DES MOINES</td>\n",
       "      <td>50317</td>\n",
       "      <td>POINT (-93.573844 41.604313)</td>\n",
       "      <td>77.0</td>\n",
       "      <td>Polk</td>\n",
       "      <td>...</td>\n",
       "      <td>11.25</td>\n",
       "      <td>12</td>\n",
       "      <td>135.0</td>\n",
       "      <td>12.00</td>\n",
       "      <td>3.17</td>\n",
       "      <td>87.0</td>\n",
       "      <td>29.0</td>\n",
       "      <td>356.0</td>\n",
       "      <td>64.0</td>\n",
       "      <td>1878.0</td>\n",
       "    </tr>\n",
       "    <tr>\n",
       "      <th>3</th>\n",
       "      <td>S20489400023</td>\n",
       "      <td>2014-08-05</td>\n",
       "      <td>4602</td>\n",
       "      <td>Cheap Smokes / Beer City</td>\n",
       "      <td>58231 190th ST</td>\n",
       "      <td>PACIFIC JUNCTION</td>\n",
       "      <td>51561</td>\n",
       "      <td>POINT (-95.822954 41.041825)</td>\n",
       "      <td>65.0</td>\n",
       "      <td>Mills</td>\n",
       "      <td>...</td>\n",
       "      <td>22.50</td>\n",
       "      <td>1</td>\n",
       "      <td>22.5</td>\n",
       "      <td>1.00</td>\n",
       "      <td>0.26</td>\n",
       "      <td>545.0</td>\n",
       "      <td>42.0</td>\n",
       "      <td>250.0</td>\n",
       "      <td>79.0</td>\n",
       "      <td>1832.0</td>\n",
       "    </tr>\n",
       "    <tr>\n",
       "      <th>4</th>\n",
       "      <td>S27726700099</td>\n",
       "      <td>2015-09-04</td>\n",
       "      <td>2191</td>\n",
       "      <td>Keokuk Spirits</td>\n",
       "      <td>1013 MAIN</td>\n",
       "      <td>KEOKUK</td>\n",
       "      <td>52632</td>\n",
       "      <td>POINT (-91.387531 40.39978)</td>\n",
       "      <td>56.0</td>\n",
       "      <td>Lee</td>\n",
       "      <td>...</td>\n",
       "      <td>25.50</td>\n",
       "      <td>1</td>\n",
       "      <td>25.5</td>\n",
       "      <td>0.75</td>\n",
       "      <td>0.20</td>\n",
       "      <td>806.0</td>\n",
       "      <td>10.0</td>\n",
       "      <td>121.0</td>\n",
       "      <td>99.0</td>\n",
       "      <td>1827.0</td>\n",
       "    </tr>\n",
       "  </tbody>\n",
       "</table>\n",
       "<p>5 rows × 29 columns</p>\n",
       "</div>"
      ],
      "text/plain": [
       "  Invoice/Item Number       Date  Store Number  \\\n",
       "0        S23100600051 2014-12-20          2629   \n",
       "1        S22940400072 2014-12-15          2601   \n",
       "2        S04020500025 2012-02-09          2636   \n",
       "3        S20489400023 2014-08-05          4602   \n",
       "4        S27726700099 2015-09-04          2191   \n",
       "\n",
       "                             Store Name                   Address  \\\n",
       "0  Hy-Vee Food Store #2 / Council Bluff          1745 MADISON AVE   \n",
       "1         Hy-Vee Food Store / Fairfield  1300 WEST BURLINGTON AVE   \n",
       "2     Hy-Vee Wine and Spirits / Hubbell          2310 HUBBELL AVE   \n",
       "3              Cheap Smokes / Beer City            58231 190th ST   \n",
       "4                        Keokuk Spirits                 1013 MAIN   \n",
       "\n",
       "               City Zip Code                Store Location  County Number  \\\n",
       "0    COUNCIL BLUFFS    51503  POINT (-95.825137 41.242732)           78.0   \n",
       "1         FAIRFIELD    52556  POINT (-91.978702 41.006456)           51.0   \n",
       "2        DES MOINES    50317  POINT (-93.573844 41.604313)           77.0   \n",
       "3  PACIFIC JUNCTION    51561  POINT (-95.822954 41.041825)           65.0   \n",
       "4            KEOKUK    52632   POINT (-91.387531 40.39978)           56.0   \n",
       "\n",
       "          County  ...  State Bottle Retail Bottles Sold  Sale (Dollars)  \\\n",
       "0  Pottawattamie  ...                30.00            6           180.0   \n",
       "1      Jefferson  ...                31.50            2            63.0   \n",
       "2           Polk  ...                11.25           12           135.0   \n",
       "3          Mills  ...                22.50            1            22.5   \n",
       "4            Lee  ...                25.50            1            25.5   \n",
       "\n",
       "  Volume Sold (Liters) Volume Sold (Gallons) Iowa ZIP Code Tabulation Areas  \\\n",
       "0                 4.50                  1.19                          817.0   \n",
       "1                 1.50                  0.40                          326.0   \n",
       "2                12.00                  3.17                           87.0   \n",
       "3                 1.00                  0.26                          545.0   \n",
       "4                 0.75                  0.20                          806.0   \n",
       "\n",
       "   Iowa Watershed Sub-Basins (HUC 08)  Iowa Watersheds (HUC 10)  \\\n",
       "0                                40.0                     236.0   \n",
       "1                                13.0                     147.0   \n",
       "2                                29.0                     356.0   \n",
       "3                                42.0                     250.0   \n",
       "4                                10.0                     121.0   \n",
       "\n",
       "   County Boundaries of Iowa  US Counties  \n",
       "0                       69.0       1879.0  \n",
       "1                       83.0        285.0  \n",
       "2                       64.0       1878.0  \n",
       "3                       79.0       1832.0  \n",
       "4                       99.0       1827.0  \n",
       "\n",
       "[5 rows x 29 columns]"
      ]
     },
     "execution_count": 63,
     "metadata": {},
     "output_type": "execute_result"
    }
   ],
   "source": [
    "allData.head()"
   ]
  },
  {
   "cell_type": "code",
   "execution_count": 64,
   "metadata": {},
   "outputs": [],
   "source": [
    "#count the records for each year\n",
    "#countYear = allData.groupby([allData['Date'].dt.year.rename('year')]).agg({'count'})\n",
    "#Keep for reference, not efficient\n",
    "\n",
    "#countYear.head()"
   ]
  },
  {
   "cell_type": "code",
   "execution_count": 65,
   "metadata": {},
   "outputs": [],
   "source": [
    "#Keep only the rows which have a date of 2018 or 2019. \n",
    "#total for 2018 (2,355,558) + 2019 (1,315,896) = 3,671,454\n",
    "\n",
    "#recentData = allData[(allData['Date'] > '2017-12-31') & (allData['Date'] <= '2020-1-1')].reset_index()"
   ]
  },
  {
   "cell_type": "code",
   "execution_count": 66,
   "metadata": {},
   "outputs": [
    {
     "data": {
      "text/plain": [
       "3     1578521\n",
       "5     1551137\n",
       "12    1539652\n",
       "6     1521164\n",
       "4     1429466\n",
       "10    1345727\n",
       "8     1345267\n",
       "1     1337085\n",
       "7     1297342\n",
       "2     1284393\n",
       "11    1238799\n",
       "9     1202171\n",
       "Name: Date, dtype: int64"
      ]
     },
     "execution_count": 66,
     "metadata": {},
     "output_type": "execute_result"
    }
   ],
   "source": [
    "#count the records for each year\n",
    "allData[\"Date\"].dt.month.value_counts()"
   ]
  },
  {
   "cell_type": "markdown",
   "metadata": {},
   "source": [
    "### Create a df for only the football months"
   ]
  },
  {
   "cell_type": "code",
   "execution_count": 67,
   "metadata": {},
   "outputs": [],
   "source": [
    "#new df for only the football months:  Aug - Dec\n",
    "\n",
    "fbAll_df = allData.query(\"Date.dt.month > 7\").reset_index()\n",
    "\n",
    "#if you want to use exact dates:\n",
    "#add inplace=True if you are modifying an existing df\n",
    "#df.query(\"Date <= '2017-01-31' & Date >= '2017-05-01' \", inplace=True)\n"
   ]
  },
  {
   "cell_type": "code",
   "execution_count": 68,
   "metadata": {},
   "outputs": [
    {
     "data": {
      "text/plain": [
       "12    1539652\n",
       "10    1345727\n",
       "8     1345267\n",
       "11    1238799\n",
       "9     1202171\n",
       "Name: Date, dtype: int64"
      ]
     },
     "execution_count": 68,
     "metadata": {},
     "output_type": "execute_result"
    }
   ],
   "source": [
    "#ensure only the football months are present\n",
    "\n",
    "fbAll_df[\"Date\"].dt.month.value_counts()"
   ]
  },
  {
   "cell_type": "code",
   "execution_count": 69,
   "metadata": {},
   "outputs": [
    {
     "data": {
      "text/plain": [
       "6671616"
      ]
     },
     "execution_count": 69,
     "metadata": {},
     "output_type": "execute_result"
    }
   ],
   "source": [
    "#total records in the dataframe\n",
    "len(fbAll_df.index)"
   ]
  },
  {
   "cell_type": "code",
   "execution_count": 70,
   "metadata": {},
   "outputs": [
    {
     "data": {
      "text/html": [
       "<div>\n",
       "<style scoped>\n",
       "    .dataframe tbody tr th:only-of-type {\n",
       "        vertical-align: middle;\n",
       "    }\n",
       "\n",
       "    .dataframe tbody tr th {\n",
       "        vertical-align: top;\n",
       "    }\n",
       "\n",
       "    .dataframe thead th {\n",
       "        text-align: right;\n",
       "    }\n",
       "</style>\n",
       "<table border=\"1\" class=\"dataframe\">\n",
       "  <thead>\n",
       "    <tr style=\"text-align: right;\">\n",
       "      <th></th>\n",
       "      <th>Sale (Dollars)</th>\n",
       "    </tr>\n",
       "    <tr>\n",
       "      <th>City</th>\n",
       "      <th></th>\n",
       "    </tr>\n",
       "  </thead>\n",
       "  <tbody>\n",
       "    <tr>\n",
       "      <th>ACKLEY</th>\n",
       "      <td>102690.48</td>\n",
       "    </tr>\n",
       "    <tr>\n",
       "      <th>ADAIR</th>\n",
       "      <td>79681.69</td>\n",
       "    </tr>\n",
       "    <tr>\n",
       "      <th>ADEL</th>\n",
       "      <td>589482.31</td>\n",
       "    </tr>\n",
       "    <tr>\n",
       "      <th>AFTON</th>\n",
       "      <td>54376.67</td>\n",
       "    </tr>\n",
       "    <tr>\n",
       "      <th>AKRON</th>\n",
       "      <td>55331.77</td>\n",
       "    </tr>\n",
       "  </tbody>\n",
       "</table>\n",
       "</div>"
      ],
      "text/plain": [
       "        Sale (Dollars)\n",
       "City                  \n",
       "ACKLEY       102690.48\n",
       "ADAIR         79681.69\n",
       "ADEL         589482.31\n",
       "AFTON         54376.67\n",
       "AKRON         55331.77"
      ]
     },
     "execution_count": 70,
     "metadata": {},
     "output_type": "execute_result"
    }
   ],
   "source": [
    "#determine the total volume sold by city\n",
    "\n",
    "cityTotal = fbAll_df.groupby(\"City\").agg({\"Sale (Dollars)\":sum})\n",
    "cityTotal.head()"
   ]
  },
  {
   "cell_type": "code",
   "execution_count": 71,
   "metadata": {},
   "outputs": [
    {
     "data": {
      "text/plain": [
       "des moines      581187\n",
       "cedar rapids    432009\n",
       "davenport       290591\n",
       "waterloo        214484\n",
       "iowa city       202863\n",
       "                 ...  \n",
       "pomeroy             59\n",
       "blairstown          52\n",
       "hull                51\n",
       "earling             43\n",
       "hinton              26\n",
       "Name: City, Length: 429, dtype: int64"
      ]
     },
     "execution_count": 71,
     "metadata": {},
     "output_type": "execute_result"
    }
   ],
   "source": [
    "#noticed the city data is in mixed case\n",
    "#count of all cities, lower case so each city is counted only once\n",
    "\n",
    "fbAll_df[\"City\"].str.lower().value_counts()\n"
   ]
  },
  {
   "cell_type": "code",
   "execution_count": 72,
   "metadata": {},
   "outputs": [],
   "source": [
    "#use only Ames (Iowa State) and Iowa City (univ of Iowa) \n",
    "#create a new df\n",
    "newName = fbAll_df\n",
    "\n",
    "#change the name of the largest cities (only need Ames and Iowa City, others are for eyeball check)\n",
    "newName.loc[newName['City']=='AMES', 'City'] = \"Ames\"\n",
    "newName.loc[newName['City']=='IOWA CITY', 'City'] = \"Iowa City\"\n",
    "newName.loc[newName['City']=='DES MOINES', 'City'] = \"Des Moines\"\n",
    "newName.loc[newName['City']=='CEDAR RAPIDS', 'City'] = \"Cedar Rapids\""
   ]
  },
  {
   "cell_type": "code",
   "execution_count": 73,
   "metadata": {},
   "outputs": [
    {
     "data": {
      "text/plain": [
       "Des Moines      581187\n",
       "Cedar Rapids    432009\n",
       "Iowa City       202863\n",
       "Ames            191555\n",
       "DAVENPORT       162411\n",
       "                 ...  \n",
       "Earling             43\n",
       "STANWOOD            41\n",
       "LOHRVILLE           40\n",
       "ROBINS              27\n",
       "Hinton              26\n",
       "Name: City, Length: 798, dtype: int64"
      ]
     },
     "execution_count": 73,
     "metadata": {},
     "output_type": "execute_result"
    }
   ],
   "source": [
    "#confirm the cities are no longer duplicated\n",
    "\n",
    "newName[\"City\"].value_counts()"
   ]
  },
  {
   "cell_type": "markdown",
   "metadata": {},
   "source": [
    "### Create a df for only the two college towns"
   ]
  },
  {
   "cell_type": "code",
   "execution_count": 74,
   "metadata": {},
   "outputs": [],
   "source": [
    "#Create new df, with only Ames and Iowa City\n",
    "\n",
    "twoCity = newName[(newName.City == 'Iowa City') | (newName.City == 'Ames')].reset_index()"
   ]
  },
  {
   "cell_type": "code",
   "execution_count": 75,
   "metadata": {},
   "outputs": [
    {
     "data": {
      "text/plain": [
       "Iowa City    202863\n",
       "Ames         191555\n",
       "Name: City, dtype: int64"
      ]
     },
     "execution_count": 75,
     "metadata": {},
     "output_type": "execute_result"
    }
   ],
   "source": [
    "#confirm only the two cities are in the df\n",
    "\n",
    "twoCity['City'].value_counts()"
   ]
  },
  {
   "cell_type": "code",
   "execution_count": 76,
   "metadata": {},
   "outputs": [
    {
     "data": {
      "text/html": [
       "<div>\n",
       "<style scoped>\n",
       "    .dataframe tbody tr th:only-of-type {\n",
       "        vertical-align: middle;\n",
       "    }\n",
       "\n",
       "    .dataframe tbody tr th {\n",
       "        vertical-align: top;\n",
       "    }\n",
       "\n",
       "    .dataframe thead th {\n",
       "        text-align: right;\n",
       "    }\n",
       "</style>\n",
       "<table border=\"1\" class=\"dataframe\">\n",
       "  <thead>\n",
       "    <tr style=\"text-align: right;\">\n",
       "      <th></th>\n",
       "      <th>level_0</th>\n",
       "      <th>index</th>\n",
       "      <th>Invoice/Item Number</th>\n",
       "      <th>Date</th>\n",
       "      <th>Store Number</th>\n",
       "      <th>Store Name</th>\n",
       "      <th>Address</th>\n",
       "      <th>City</th>\n",
       "      <th>Zip Code</th>\n",
       "      <th>Store Location</th>\n",
       "      <th>...</th>\n",
       "      <th>State Bottle Retail</th>\n",
       "      <th>Bottles Sold</th>\n",
       "      <th>Sale (Dollars)</th>\n",
       "      <th>Volume Sold (Liters)</th>\n",
       "      <th>Volume Sold (Gallons)</th>\n",
       "      <th>Iowa ZIP Code Tabulation Areas</th>\n",
       "      <th>Iowa Watershed Sub-Basins (HUC 08)</th>\n",
       "      <th>Iowa Watersheds (HUC 10)</th>\n",
       "      <th>County Boundaries of Iowa</th>\n",
       "      <th>US Counties</th>\n",
       "    </tr>\n",
       "  </thead>\n",
       "  <tbody>\n",
       "    <tr>\n",
       "      <th>0</th>\n",
       "      <td>5</td>\n",
       "      <td>7</td>\n",
       "      <td>S15586300111</td>\n",
       "      <td>2013-11-06</td>\n",
       "      <td>2501</td>\n",
       "      <td>Hy-vee  #2 / Ames</td>\n",
       "      <td>640 LINCOLNWAY</td>\n",
       "      <td>Ames</td>\n",
       "      <td>50010</td>\n",
       "      <td>POINT (-93.619455 42.022848)</td>\n",
       "      <td>...</td>\n",
       "      <td>12.37</td>\n",
       "      <td>12</td>\n",
       "      <td>148.44</td>\n",
       "      <td>9.0</td>\n",
       "      <td>2.38</td>\n",
       "      <td>609.0</td>\n",
       "      <td>11.0</td>\n",
       "      <td>124.0</td>\n",
       "      <td>53.0</td>\n",
       "      <td>299.0</td>\n",
       "    </tr>\n",
       "    <tr>\n",
       "      <th>1</th>\n",
       "      <td>10</td>\n",
       "      <td>23</td>\n",
       "      <td>S09251800068</td>\n",
       "      <td>2012-12-03</td>\n",
       "      <td>2622</td>\n",
       "      <td>Hy-Vee Food Store / Iowa City</td>\n",
       "      <td>1125 N DODGE ST</td>\n",
       "      <td>Iowa City</td>\n",
       "      <td>52240</td>\n",
       "      <td>POINT (-91.518536 41.676203)</td>\n",
       "      <td>...</td>\n",
       "      <td>6.29</td>\n",
       "      <td>6</td>\n",
       "      <td>37.74</td>\n",
       "      <td>4.5</td>\n",
       "      <td>1.19</td>\n",
       "      <td>526.0</td>\n",
       "      <td>22.0</td>\n",
       "      <td>292.0</td>\n",
       "      <td>61.0</td>\n",
       "      <td>1792.0</td>\n",
       "    </tr>\n",
       "    <tr>\n",
       "      <th>2</th>\n",
       "      <td>16</td>\n",
       "      <td>38</td>\n",
       "      <td>S15596700079</td>\n",
       "      <td>2013-11-14</td>\n",
       "      <td>2545</td>\n",
       "      <td>Hy-Vee Drugstore / Iowa City</td>\n",
       "      <td>310 N 1ST ST</td>\n",
       "      <td>Iowa City</td>\n",
       "      <td>52245</td>\n",
       "      <td>POINT (-91.502069 41.665693)</td>\n",
       "      <td>...</td>\n",
       "      <td>13.38</td>\n",
       "      <td>2</td>\n",
       "      <td>26.76</td>\n",
       "      <td>3.5</td>\n",
       "      <td>0.92</td>\n",
       "      <td>526.0</td>\n",
       "      <td>22.0</td>\n",
       "      <td>292.0</td>\n",
       "      <td>61.0</td>\n",
       "      <td>1792.0</td>\n",
       "    </tr>\n",
       "    <tr>\n",
       "      <th>3</th>\n",
       "      <td>20</td>\n",
       "      <td>57</td>\n",
       "      <td>S08027000001</td>\n",
       "      <td>2012-10-02</td>\n",
       "      <td>4456</td>\n",
       "      <td>Kum &amp; Go #53 / Iowa City</td>\n",
       "      <td>955 MORMAN TREK BLVD</td>\n",
       "      <td>Iowa City</td>\n",
       "      <td>52246</td>\n",
       "      <td>POINT (-91.574083 41.649635)</td>\n",
       "      <td>...</td>\n",
       "      <td>20.74</td>\n",
       "      <td>6</td>\n",
       "      <td>124.44</td>\n",
       "      <td>10.5</td>\n",
       "      <td>2.77</td>\n",
       "      <td>268.0</td>\n",
       "      <td>22.0</td>\n",
       "      <td>292.0</td>\n",
       "      <td>61.0</td>\n",
       "      <td>1792.0</td>\n",
       "    </tr>\n",
       "    <tr>\n",
       "      <th>4</th>\n",
       "      <td>22</td>\n",
       "      <td>61</td>\n",
       "      <td>S15455800062</td>\n",
       "      <td>2013-10-31</td>\n",
       "      <td>2512</td>\n",
       "      <td>Hy-Vee Wine and Spirits / Iowa City</td>\n",
       "      <td>1720 WATERFRONT DR</td>\n",
       "      <td>Iowa City</td>\n",
       "      <td>52240</td>\n",
       "      <td>POINT (-91.530467 41.64277)</td>\n",
       "      <td>...</td>\n",
       "      <td>11.87</td>\n",
       "      <td>12</td>\n",
       "      <td>142.44</td>\n",
       "      <td>9.0</td>\n",
       "      <td>2.38</td>\n",
       "      <td>896.0</td>\n",
       "      <td>22.0</td>\n",
       "      <td>292.0</td>\n",
       "      <td>61.0</td>\n",
       "      <td>1792.0</td>\n",
       "    </tr>\n",
       "  </tbody>\n",
       "</table>\n",
       "<p>5 rows × 31 columns</p>\n",
       "</div>"
      ],
      "text/plain": [
       "   level_0  index Invoice/Item Number       Date  Store Number  \\\n",
       "0        5      7        S15586300111 2013-11-06          2501   \n",
       "1       10     23        S09251800068 2012-12-03          2622   \n",
       "2       16     38        S15596700079 2013-11-14          2545   \n",
       "3       20     57        S08027000001 2012-10-02          4456   \n",
       "4       22     61        S15455800062 2013-10-31          2512   \n",
       "\n",
       "                            Store Name               Address       City  \\\n",
       "0                    Hy-vee  #2 / Ames        640 LINCOLNWAY       Ames   \n",
       "1        Hy-Vee Food Store / Iowa City       1125 N DODGE ST  Iowa City   \n",
       "2         Hy-Vee Drugstore / Iowa City          310 N 1ST ST  Iowa City   \n",
       "3             Kum & Go #53 / Iowa City  955 MORMAN TREK BLVD  Iowa City   \n",
       "4  Hy-Vee Wine and Spirits / Iowa City    1720 WATERFRONT DR  Iowa City   \n",
       "\n",
       "  Zip Code                Store Location  ...  State Bottle Retail  \\\n",
       "0    50010  POINT (-93.619455 42.022848)  ...                12.37   \n",
       "1    52240  POINT (-91.518536 41.676203)  ...                 6.29   \n",
       "2    52245  POINT (-91.502069 41.665693)  ...                13.38   \n",
       "3    52246  POINT (-91.574083 41.649635)  ...                20.74   \n",
       "4    52240   POINT (-91.530467 41.64277)  ...                11.87   \n",
       "\n",
       "  Bottles Sold  Sale (Dollars) Volume Sold (Liters)  Volume Sold (Gallons)  \\\n",
       "0           12          148.44                  9.0                   2.38   \n",
       "1            6           37.74                  4.5                   1.19   \n",
       "2            2           26.76                  3.5                   0.92   \n",
       "3            6          124.44                 10.5                   2.77   \n",
       "4           12          142.44                  9.0                   2.38   \n",
       "\n",
       "  Iowa ZIP Code Tabulation Areas Iowa Watershed Sub-Basins (HUC 08)  \\\n",
       "0                          609.0                               11.0   \n",
       "1                          526.0                               22.0   \n",
       "2                          526.0                               22.0   \n",
       "3                          268.0                               22.0   \n",
       "4                          896.0                               22.0   \n",
       "\n",
       "  Iowa Watersheds (HUC 10)  County Boundaries of Iowa  US Counties  \n",
       "0                    124.0                       53.0        299.0  \n",
       "1                    292.0                       61.0       1792.0  \n",
       "2                    292.0                       61.0       1792.0  \n",
       "3                    292.0                       61.0       1792.0  \n",
       "4                    292.0                       61.0       1792.0  \n",
       "\n",
       "[5 rows x 31 columns]"
      ]
     },
     "execution_count": 76,
     "metadata": {},
     "output_type": "execute_result"
    }
   ],
   "source": [
    "twoCity.head()"
   ]
  },
  {
   "cell_type": "code",
   "execution_count": 77,
   "metadata": {},
   "outputs": [],
   "source": [
    "#rename the columns and remove spaces and parenthesis\n",
    "\n",
    "twoCity.columns = ['level_0',\n",
    " 'index',\n",
    " 'Invoice_Item_Number',\n",
    " 'Date',\n",
    " 'Store_Number',\n",
    " 'Store_Name',\n",
    " 'Address',\n",
    " 'City',\n",
    " 'Zip_Code',\n",
    " 'Store_Location',\n",
    " 'County_Number',\n",
    " 'County',\n",
    " 'Category',\n",
    " 'Category_Name',\n",
    " 'Vendor_Number',\n",
    " 'Vendor_Name',\n",
    " 'Item_Number',\n",
    " 'Item_Description',\n",
    " 'Pack',\n",
    " 'Bottle _volume_ml',\n",
    " 'State_Bottle_Cost',\n",
    " 'State_Bottle_Retail',\n",
    " 'Bottles_Sold',\n",
    " 'Sale_Dollars',\n",
    " 'Volume_Sold_Liters',\n",
    " 'Volume_Sold_Gallons',\n",
    " 'Iowa_ZIP_Code_Tabulation_Areas',\n",
    " 'Iowa_Watershed_Sub-Basins_HUC_08',\n",
    " 'Iowa_Watersheds_HUC_10',\n",
    " 'County_Boundaries_of_Iowa',\n",
    " 'US_Counties']"
   ]
  },
  {
   "cell_type": "code",
   "execution_count": 78,
   "metadata": {},
   "outputs": [],
   "source": [
    "#eyeball check\n",
    "#twoCity.head()"
   ]
  },
  {
   "cell_type": "code",
   "execution_count": 79,
   "metadata": {},
   "outputs": [
    {
     "data": {
      "text/plain": [
       "(394418, 31)"
      ]
     },
     "execution_count": 79,
     "metadata": {},
     "output_type": "execute_result"
    }
   ],
   "source": [
    "#how many rows & columns?\n",
    "twoCity.shape"
   ]
  },
  {
   "cell_type": "code",
   "execution_count": 80,
   "metadata": {},
   "outputs": [
    {
     "data": {
      "text/plain": [
       "10    83708\n",
       "8     81705\n",
       "12    79392\n",
       "9     75665\n",
       "11    73948\n",
       "Name: Date, dtype: int64"
      ]
     },
     "execution_count": 80,
     "metadata": {},
     "output_type": "execute_result"
    }
   ],
   "source": [
    "#confirm data is still for the football months\n",
    "twoCity[\"Date\"].dt.month.value_counts()"
   ]
  },
  {
   "cell_type": "code",
   "execution_count": 81,
   "metadata": {},
   "outputs": [],
   "source": [
    "twoCity_reduced = twoCity[['Date', 'City', 'Sale_Dollars']]"
   ]
  },
  {
   "cell_type": "code",
   "execution_count": 82,
   "metadata": {},
   "outputs": [
    {
     "data": {
      "text/html": [
       "<div>\n",
       "<style scoped>\n",
       "    .dataframe tbody tr th:only-of-type {\n",
       "        vertical-align: middle;\n",
       "    }\n",
       "\n",
       "    .dataframe tbody tr th {\n",
       "        vertical-align: top;\n",
       "    }\n",
       "\n",
       "    .dataframe thead th {\n",
       "        text-align: right;\n",
       "    }\n",
       "</style>\n",
       "<table border=\"1\" class=\"dataframe\">\n",
       "  <thead>\n",
       "    <tr style=\"text-align: right;\">\n",
       "      <th></th>\n",
       "      <th>Date</th>\n",
       "      <th>City</th>\n",
       "      <th>Sale_Dollars</th>\n",
       "    </tr>\n",
       "  </thead>\n",
       "  <tbody>\n",
       "    <tr>\n",
       "      <th>0</th>\n",
       "      <td>2013-11-06</td>\n",
       "      <td>Ames</td>\n",
       "      <td>148.44</td>\n",
       "    </tr>\n",
       "    <tr>\n",
       "      <th>1</th>\n",
       "      <td>2012-12-03</td>\n",
       "      <td>Iowa City</td>\n",
       "      <td>37.74</td>\n",
       "    </tr>\n",
       "    <tr>\n",
       "      <th>2</th>\n",
       "      <td>2013-11-14</td>\n",
       "      <td>Iowa City</td>\n",
       "      <td>26.76</td>\n",
       "    </tr>\n",
       "    <tr>\n",
       "      <th>3</th>\n",
       "      <td>2012-10-02</td>\n",
       "      <td>Iowa City</td>\n",
       "      <td>124.44</td>\n",
       "    </tr>\n",
       "    <tr>\n",
       "      <th>4</th>\n",
       "      <td>2013-10-31</td>\n",
       "      <td>Iowa City</td>\n",
       "      <td>142.44</td>\n",
       "    </tr>\n",
       "  </tbody>\n",
       "</table>\n",
       "</div>"
      ],
      "text/plain": [
       "        Date       City  Sale_Dollars\n",
       "0 2013-11-06       Ames        148.44\n",
       "1 2012-12-03  Iowa City         37.74\n",
       "2 2013-11-14  Iowa City         26.76\n",
       "3 2012-10-02  Iowa City        124.44\n",
       "4 2013-10-31  Iowa City        142.44"
      ]
     },
     "execution_count": 82,
     "metadata": {},
     "output_type": "execute_result"
    }
   ],
   "source": [
    "#reduce the df to only include the features needed for the regression model\n",
    "twoCity_reduced.head()"
   ]
  },
  {
   "cell_type": "code",
   "execution_count": 83,
   "metadata": {},
   "outputs": [],
   "source": [
    "#save this df to a csv\n",
    "# why?   backup, just in case\n",
    "twoCity_reduced.to_csv('data/twoCity_reduced.csv')"
   ]
  },
  {
   "cell_type": "markdown",
   "metadata": {},
   "source": [
    "### Create a df for only Ames"
   ]
  },
  {
   "cell_type": "code",
   "execution_count": 84,
   "metadata": {},
   "outputs": [],
   "source": [
    "#create a df for Ames\n",
    "ames1 = twoCity_reduced[(twoCity_reduced.City == 'Ames')].reset_index()"
   ]
  },
  {
   "cell_type": "code",
   "execution_count": 85,
   "metadata": {},
   "outputs": [
    {
     "data": {
      "text/plain": [
       "Ames    191555\n",
       "Name: City, dtype: int64"
      ]
     },
     "execution_count": 85,
     "metadata": {},
     "output_type": "execute_result"
    }
   ],
   "source": [
    "#eyeball check, ensure the counts\n",
    "ames1['City'].value_counts()"
   ]
  },
  {
   "cell_type": "code",
   "execution_count": 86,
   "metadata": {},
   "outputs": [],
   "source": [
    "#create a df of only the ames sales\n",
    "ames2 = ames1[['Date', 'Sale_Dollars']]"
   ]
  },
  {
   "cell_type": "code",
   "execution_count": 87,
   "metadata": {},
   "outputs": [
    {
     "data": {
      "text/html": [
       "<div>\n",
       "<style scoped>\n",
       "    .dataframe tbody tr th:only-of-type {\n",
       "        vertical-align: middle;\n",
       "    }\n",
       "\n",
       "    .dataframe tbody tr th {\n",
       "        vertical-align: top;\n",
       "    }\n",
       "\n",
       "    .dataframe thead th {\n",
       "        text-align: right;\n",
       "    }\n",
       "</style>\n",
       "<table border=\"1\" class=\"dataframe\">\n",
       "  <thead>\n",
       "    <tr style=\"text-align: right;\">\n",
       "      <th></th>\n",
       "      <th>Date</th>\n",
       "      <th>Sale_Dollars</th>\n",
       "    </tr>\n",
       "  </thead>\n",
       "  <tbody>\n",
       "    <tr>\n",
       "      <th>0</th>\n",
       "      <td>2013-11-06</td>\n",
       "      <td>148.44</td>\n",
       "    </tr>\n",
       "    <tr>\n",
       "      <th>1</th>\n",
       "      <td>2014-10-22</td>\n",
       "      <td>28.50</td>\n",
       "    </tr>\n",
       "    <tr>\n",
       "      <th>2</th>\n",
       "      <td>2013-12-24</td>\n",
       "      <td>49.48</td>\n",
       "    </tr>\n",
       "    <tr>\n",
       "      <th>3</th>\n",
       "      <td>2013-12-30</td>\n",
       "      <td>69.92</td>\n",
       "    </tr>\n",
       "    <tr>\n",
       "      <th>4</th>\n",
       "      <td>2014-08-13</td>\n",
       "      <td>28.96</td>\n",
       "    </tr>\n",
       "  </tbody>\n",
       "</table>\n",
       "</div>"
      ],
      "text/plain": [
       "        Date  Sale_Dollars\n",
       "0 2013-11-06        148.44\n",
       "1 2014-10-22         28.50\n",
       "2 2013-12-24         49.48\n",
       "3 2013-12-30         69.92\n",
       "4 2014-08-13         28.96"
      ]
     },
     "execution_count": 87,
     "metadata": {},
     "output_type": "execute_result"
    }
   ],
   "source": [
    "ames2.head()"
   ]
  },
  {
   "cell_type": "code",
   "execution_count": 88,
   "metadata": {},
   "outputs": [],
   "source": [
    "#save the final Ames dataframe to a csv\n",
    "ames2.to_csv('data/ames2.csv')"
   ]
  },
  {
   "cell_type": "markdown",
   "metadata": {},
   "source": [
    "### Create a small dataset for Ames"
   ]
  },
  {
   "cell_type": "code",
   "execution_count": 89,
   "metadata": {},
   "outputs": [],
   "source": [
    "#amesShort = ames2.head(20)"
   ]
  },
  {
   "cell_type": "code",
   "execution_count": 90,
   "metadata": {},
   "outputs": [],
   "source": [
    "#amesShort.head()"
   ]
  },
  {
   "cell_type": "code",
   "execution_count": 91,
   "metadata": {},
   "outputs": [],
   "source": [
    "#save the amesShort df as a new csv to have a smaller set of data for further manipulation\n",
    "#amesShort.to_csv('data/amesShort.csv')"
   ]
  },
  {
   "cell_type": "markdown",
   "metadata": {},
   "source": [
    "### Create a df for only Iowa City"
   ]
  },
  {
   "cell_type": "code",
   "execution_count": 92,
   "metadata": {},
   "outputs": [],
   "source": [
    "#create a df for Iowa City\n",
    "iowa1 = twoCity_reduced[(twoCity_reduced.City == 'Iowa City')].reset_index()"
   ]
  },
  {
   "cell_type": "code",
   "execution_count": 93,
   "metadata": {},
   "outputs": [
    {
     "data": {
      "text/plain": [
       "Iowa City    202863\n",
       "Name: City, dtype: int64"
      ]
     },
     "execution_count": 93,
     "metadata": {},
     "output_type": "execute_result"
    }
   ],
   "source": [
    "#eyeball check, ensure the counts\n",
    "iowa1['City'].value_counts()"
   ]
  },
  {
   "cell_type": "code",
   "execution_count": 94,
   "metadata": {},
   "outputs": [],
   "source": [
    "#create a df of only the Iowa City sales\n",
    "iowa2 = iowa1[['Date', 'Sale_Dollars']]"
   ]
  },
  {
   "cell_type": "code",
   "execution_count": 95,
   "metadata": {},
   "outputs": [
    {
     "data": {
      "text/html": [
       "<div>\n",
       "<style scoped>\n",
       "    .dataframe tbody tr th:only-of-type {\n",
       "        vertical-align: middle;\n",
       "    }\n",
       "\n",
       "    .dataframe tbody tr th {\n",
       "        vertical-align: top;\n",
       "    }\n",
       "\n",
       "    .dataframe thead th {\n",
       "        text-align: right;\n",
       "    }\n",
       "</style>\n",
       "<table border=\"1\" class=\"dataframe\">\n",
       "  <thead>\n",
       "    <tr style=\"text-align: right;\">\n",
       "      <th></th>\n",
       "      <th>Date</th>\n",
       "      <th>Sale_Dollars</th>\n",
       "    </tr>\n",
       "  </thead>\n",
       "  <tbody>\n",
       "    <tr>\n",
       "      <th>0</th>\n",
       "      <td>2012-12-03</td>\n",
       "      <td>37.74</td>\n",
       "    </tr>\n",
       "    <tr>\n",
       "      <th>1</th>\n",
       "      <td>2013-11-14</td>\n",
       "      <td>26.76</td>\n",
       "    </tr>\n",
       "    <tr>\n",
       "      <th>2</th>\n",
       "      <td>2012-10-02</td>\n",
       "      <td>124.44</td>\n",
       "    </tr>\n",
       "    <tr>\n",
       "      <th>3</th>\n",
       "      <td>2013-10-31</td>\n",
       "      <td>142.44</td>\n",
       "    </tr>\n",
       "    <tr>\n",
       "      <th>4</th>\n",
       "      <td>2013-10-07</td>\n",
       "      <td>960.00</td>\n",
       "    </tr>\n",
       "  </tbody>\n",
       "</table>\n",
       "</div>"
      ],
      "text/plain": [
       "        Date  Sale_Dollars\n",
       "0 2012-12-03         37.74\n",
       "1 2013-11-14         26.76\n",
       "2 2012-10-02        124.44\n",
       "3 2013-10-31        142.44\n",
       "4 2013-10-07        960.00"
      ]
     },
     "execution_count": 95,
     "metadata": {},
     "output_type": "execute_result"
    }
   ],
   "source": [
    "iowa2.head()"
   ]
  },
  {
   "cell_type": "code",
   "execution_count": 96,
   "metadata": {},
   "outputs": [],
   "source": [
    "#save the final dataframe to a csv\n",
    "iowa2.to_csv('data/iowaCity2.csv')"
   ]
  }
 ],
 "metadata": {
  "kernelspec": {
   "display_name": "Python 3",
   "language": "python",
   "name": "python3"
  },
  "language_info": {
   "codemirror_mode": {
    "name": "ipython",
    "version": 3
   },
   "file_extension": ".py",
   "mimetype": "text/x-python",
   "name": "python",
   "nbconvert_exporter": "python",
   "pygments_lexer": "ipython3",
   "version": "3.7.1"
  }
 },
 "nbformat": 4,
 "nbformat_minor": 2
}
