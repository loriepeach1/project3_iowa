{
 "cells": [
  {
   "cell_type": "code",
   "execution_count": 4,
   "metadata": {},
   "outputs": [],
   "source": [
    "#import libraries for big query\n",
    "from google.cloud import bigquery\n",
    "from google.oauth2 import service_account\n",
    "\n",
    "#import libraries for python\n",
    "import pandas as pd\n",
    "import json  \n",
    "from pandas.io.json import json_normalize \n",
    "import matplotlib.pyplot as plt "
   ]
  },
  {
   "cell_type": "code",
   "execution_count": 5,
   "metadata": {},
   "outputs": [],
   "source": [
    "# define location of services file\n",
    "\n",
    "import os\n",
    "os.environ[\"GOOGLE_APPLICATION_CREDENTIALS\"] = \"iowaServiceKey.json\""
   ]
  },
  {
   "cell_type": "code",
   "execution_count": 6,
   "metadata": {},
   "outputs": [],
   "source": [
    "#create client to bigquery\n",
    "client = bigquery.Client()"
   ]
  },
  {
   "cell_type": "code",
   "execution_count": 7,
   "metadata": {},
   "outputs": [],
   "source": [
    "#define the query\n",
    "\n",
    "QUERY= (\n",
    "'SELECT * FROM `bigquery-public-data.iowa_liquor_sales.sales` limit 100'\n",
    ")"
   ]
  },
  {
   "cell_type": "code",
   "execution_count": 8,
   "metadata": {},
   "outputs": [],
   "source": [
    "query_job = client.query(QUERY) # API request\n",
    "rows = query_job.result() # Waits for query to finish"
   ]
  },
  {
   "cell_type": "code",
   "execution_count": 9,
   "metadata": {},
   "outputs": [],
   "source": [
    "df = rows.to_dataframe()"
   ]
  },
  {
   "cell_type": "code",
   "execution_count": 10,
   "metadata": {},
   "outputs": [
    {
     "data": {
      "text/html": [
       "<div>\n",
       "<style scoped>\n",
       "    .dataframe tbody tr th:only-of-type {\n",
       "        vertical-align: middle;\n",
       "    }\n",
       "\n",
       "    .dataframe tbody tr th {\n",
       "        vertical-align: top;\n",
       "    }\n",
       "\n",
       "    .dataframe thead th {\n",
       "        text-align: right;\n",
       "    }\n",
       "</style>\n",
       "<table border=\"1\" class=\"dataframe\">\n",
       "  <thead>\n",
       "    <tr style=\"text-align: right;\">\n",
       "      <th></th>\n",
       "      <th>invoice_and_item_number</th>\n",
       "      <th>date</th>\n",
       "      <th>store_number</th>\n",
       "      <th>store_name</th>\n",
       "      <th>address</th>\n",
       "      <th>city</th>\n",
       "      <th>zip_code</th>\n",
       "      <th>store_location</th>\n",
       "      <th>county_number</th>\n",
       "      <th>county</th>\n",
       "      <th>...</th>\n",
       "      <th>item_number</th>\n",
       "      <th>item_description</th>\n",
       "      <th>pack</th>\n",
       "      <th>bottle_volume_ml</th>\n",
       "      <th>state_bottle_cost</th>\n",
       "      <th>state_bottle_retail</th>\n",
       "      <th>bottles_sold</th>\n",
       "      <th>sale_dollars</th>\n",
       "      <th>volume_sold_liters</th>\n",
       "      <th>volume_sold_gallons</th>\n",
       "    </tr>\n",
       "  </thead>\n",
       "  <tbody>\n",
       "    <tr>\n",
       "      <th>0</th>\n",
       "      <td>S13035300078</td>\n",
       "      <td>2013-06-27</td>\n",
       "      <td>2106</td>\n",
       "      <td>Hillstreet News and Tobacco</td>\n",
       "      <td>2217 COLLEGE</td>\n",
       "      <td>CEDAR FALLS</td>\n",
       "      <td>50613</td>\n",
       "      <td>POINT (-92.455802 42.517607)</td>\n",
       "      <td>07</td>\n",
       "      <td>Black Hawk</td>\n",
       "      <td>...</td>\n",
       "      <td>82636</td>\n",
       "      <td>Dekuyper Grape Pucker Schnapps</td>\n",
       "      <td>12</td>\n",
       "      <td>750</td>\n",
       "      <td>5.30</td>\n",
       "      <td>8.45</td>\n",
       "      <td>36</td>\n",
       "      <td>304.20</td>\n",
       "      <td>27.00</td>\n",
       "      <td>7.13</td>\n",
       "    </tr>\n",
       "    <tr>\n",
       "      <th>1</th>\n",
       "      <td>S26985800053</td>\n",
       "      <td>2015-07-27</td>\n",
       "      <td>4180</td>\n",
       "      <td>Smokin' Joe's #10 Tobacco and Liquor</td>\n",
       "      <td>480 7TH AVE</td>\n",
       "      <td>MARION</td>\n",
       "      <td>52302</td>\n",
       "      <td>POINT (-91.60546000000001 42.033308)</td>\n",
       "      <td>57</td>\n",
       "      <td>Linn</td>\n",
       "      <td>...</td>\n",
       "      <td>55084</td>\n",
       "      <td>Paramount Blackberry Brandy</td>\n",
       "      <td>24</td>\n",
       "      <td>375</td>\n",
       "      <td>3.55</td>\n",
       "      <td>5.33</td>\n",
       "      <td>7</td>\n",
       "      <td>37.31</td>\n",
       "      <td>2.62</td>\n",
       "      <td>0.69</td>\n",
       "    </tr>\n",
       "    <tr>\n",
       "      <th>2</th>\n",
       "      <td>S13946400029</td>\n",
       "      <td>2013-08-21</td>\n",
       "      <td>3944</td>\n",
       "      <td>Sam's Club 4973 / Dubuque</td>\n",
       "      <td>4400 ASBURY RD</td>\n",
       "      <td>DUBUQUE</td>\n",
       "      <td>52002</td>\n",
       "      <td>POINT (-90.736175 42.515282)</td>\n",
       "      <td>31</td>\n",
       "      <td>Dubuque</td>\n",
       "      <td>...</td>\n",
       "      <td>77487</td>\n",
       "      <td>Tortilla Gold Dss</td>\n",
       "      <td>12</td>\n",
       "      <td>1000</td>\n",
       "      <td>4.51</td>\n",
       "      <td>6.76</td>\n",
       "      <td>48</td>\n",
       "      <td>324.48</td>\n",
       "      <td>48.00</td>\n",
       "      <td>12.68</td>\n",
       "    </tr>\n",
       "    <tr>\n",
       "      <th>3</th>\n",
       "      <td>S05598400011</td>\n",
       "      <td>2012-05-17</td>\n",
       "      <td>4295</td>\n",
       "      <td>Nat Food Mart #1 / Hubbell</td>\n",
       "      <td>3804 HUBBELL</td>\n",
       "      <td>DES MOINES</td>\n",
       "      <td>50317</td>\n",
       "      <td>POINT (-93.541733 41.630651)</td>\n",
       "      <td>77</td>\n",
       "      <td>Polk</td>\n",
       "      <td>...</td>\n",
       "      <td>2666</td>\n",
       "      <td>Hennessy VS Flask Sleeve</td>\n",
       "      <td>24</td>\n",
       "      <td>200</td>\n",
       "      <td>59.92</td>\n",
       "      <td>89.88</td>\n",
       "      <td>1</td>\n",
       "      <td>89.88</td>\n",
       "      <td>0.20</td>\n",
       "      <td>0.05</td>\n",
       "    </tr>\n",
       "    <tr>\n",
       "      <th>4</th>\n",
       "      <td>INV-14219300005</td>\n",
       "      <td>2018-09-04</td>\n",
       "      <td>2285</td>\n",
       "      <td>John's Grocery</td>\n",
       "      <td>401 East Market St</td>\n",
       "      <td>Iowa City</td>\n",
       "      <td>52240</td>\n",
       "      <td>POINT (-91.529854 41.663541)</td>\n",
       "      <td>52</td>\n",
       "      <td>JOHNSON</td>\n",
       "      <td>...</td>\n",
       "      <td>903747</td>\n",
       "      <td>Capel Pisco Premium</td>\n",
       "      <td>12</td>\n",
       "      <td>750</td>\n",
       "      <td>9.02</td>\n",
       "      <td>13.53</td>\n",
       "      <td>36</td>\n",
       "      <td>487.08</td>\n",
       "      <td>27.00</td>\n",
       "      <td>7.13</td>\n",
       "    </tr>\n",
       "  </tbody>\n",
       "</table>\n",
       "<p>5 rows × 24 columns</p>\n",
       "</div>"
      ],
      "text/plain": [
       "  invoice_and_item_number        date store_number  \\\n",
       "0            S13035300078  2013-06-27         2106   \n",
       "1            S26985800053  2015-07-27         4180   \n",
       "2            S13946400029  2013-08-21         3944   \n",
       "3            S05598400011  2012-05-17         4295   \n",
       "4         INV-14219300005  2018-09-04         2285   \n",
       "\n",
       "                             store_name             address         city  \\\n",
       "0           Hillstreet News and Tobacco        2217 COLLEGE  CEDAR FALLS   \n",
       "1  Smokin' Joe's #10 Tobacco and Liquor         480 7TH AVE       MARION   \n",
       "2             Sam's Club 4973 / Dubuque      4400 ASBURY RD      DUBUQUE   \n",
       "3            Nat Food Mart #1 / Hubbell        3804 HUBBELL   DES MOINES   \n",
       "4                        John's Grocery  401 East Market St    Iowa City   \n",
       "\n",
       "  zip_code                        store_location county_number      county  \\\n",
       "0    50613          POINT (-92.455802 42.517607)            07  Black Hawk   \n",
       "1    52302  POINT (-91.60546000000001 42.033308)            57        Linn   \n",
       "2    52002          POINT (-90.736175 42.515282)            31     Dubuque   \n",
       "3    50317          POINT (-93.541733 41.630651)            77        Polk   \n",
       "4    52240          POINT (-91.529854 41.663541)            52     JOHNSON   \n",
       "\n",
       "   ... item_number                item_description pack bottle_volume_ml  \\\n",
       "0  ...       82636  Dekuyper Grape Pucker Schnapps   12              750   \n",
       "1  ...       55084     Paramount Blackberry Brandy   24              375   \n",
       "2  ...       77487               Tortilla Gold Dss   12             1000   \n",
       "3  ...        2666        Hennessy VS Flask Sleeve   24              200   \n",
       "4  ...      903747             Capel Pisco Premium   12              750   \n",
       "\n",
       "  state_bottle_cost state_bottle_retail  bottles_sold  sale_dollars  \\\n",
       "0              5.30                8.45            36        304.20   \n",
       "1              3.55                5.33             7         37.31   \n",
       "2              4.51                6.76            48        324.48   \n",
       "3             59.92               89.88             1         89.88   \n",
       "4              9.02               13.53            36        487.08   \n",
       "\n",
       "   volume_sold_liters  volume_sold_gallons  \n",
       "0               27.00                 7.13  \n",
       "1                2.62                 0.69  \n",
       "2               48.00                12.68  \n",
       "3                0.20                 0.05  \n",
       "4               27.00                 7.13  \n",
       "\n",
       "[5 rows x 24 columns]"
      ]
     },
     "execution_count": 10,
     "metadata": {},
     "output_type": "execute_result"
    }
   ],
   "source": [
    "df.head()"
   ]
  },
  {
   "cell_type": "code",
   "execution_count": 11,
   "metadata": {},
   "outputs": [
    {
     "data": {
      "text/plain": [
       "100"
      ]
     },
     "execution_count": 11,
     "metadata": {},
     "output_type": "execute_result"
    }
   ],
   "source": [
    "len(df)"
   ]
  },
  {
   "cell_type": "code",
   "execution_count": 12,
   "metadata": {},
   "outputs": [
    {
     "data": {
      "text/plain": [
       "Index(['invoice_and_item_number', 'date', 'store_number', 'store_name',\n",
       "       'address', 'city', 'zip_code', 'store_location', 'county_number',\n",
       "       'county', 'category', 'category_name', 'vendor_number', 'vendor_name',\n",
       "       'item_number', 'item_description', 'pack', 'bottle_volume_ml',\n",
       "       'state_bottle_cost', 'state_bottle_retail', 'bottles_sold',\n",
       "       'sale_dollars', 'volume_sold_liters', 'volume_sold_gallons'],\n",
       "      dtype='object')"
      ]
     },
     "execution_count": 12,
     "metadata": {},
     "output_type": "execute_result"
    }
   ],
   "source": [
    "df.columns"
   ]
  },
  {
   "cell_type": "code",
   "execution_count": 13,
   "metadata": {},
   "outputs": [
    {
     "data": {
      "text/plain": [
       "<matplotlib.axes._subplots.AxesSubplot at 0x2cc4b612f60>"
      ]
     },
     "execution_count": 13,
     "metadata": {},
     "output_type": "execute_result"
    },
    {
     "data": {
      "image/png": "[encoded data removed]",
      "text/plain": [
       "<Figure size 432x288 with 1 Axes>"
      ]
     },
     "metadata": {
      "needs_background": "light"
     },
     "output_type": "display_data"
    }
   ],
   "source": [
    "df.plot.line(y=['volume_sold_liters'])"
   ]
  }
 ],
 "metadata": {
  "kernelspec": {
   "display_name": "Python 3",
   "language": "python",
   "name": "python3"
  },
  "language_info": {
   "codemirror_mode": {
    "name": "ipython",
    "version": 3
   },
   "file_extension": ".py",
   "mimetype": "text/x-python",
   "name": "python",
   "nbconvert_exporter": "python",
   "pygments_lexer": "ipython3",
   "version": "3.7.1"
  }
 },
 "nbformat": 4,
 "nbformat_minor": 2
}
