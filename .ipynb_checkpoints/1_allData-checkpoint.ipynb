{
 "cells": [
  {
   "cell_type": "code",
   "execution_count": 50,
   "metadata": {},
   "outputs": [],
   "source": [
    "#This notebook is used to create a df for only the football months Aug - Nov\n",
    "#Begin with the full dataset.\n",
    "#clean/format the data\n",
    "#export the final dataframe of football season data data to a csv which will be used in a new notebook."
   ]
  },
  {
   "cell_type": "code",
   "execution_count": 51,
   "metadata": {
    "collapsed": true,
    "slideshow": {
     "slide_type": "slide"
    }
   },
   "outputs": [],
   "source": [
    "import warnings\n",
    "warnings.simplefilter('ignore')\n",
    "\n",
    "%matplotlib inline\n",
    "import matplotlib.pyplot as plt\n",
    "import numpy as np\n",
    "import pandas as pd\n",
    "import datetime as dt"
   ]
  },
  {
   "cell_type": "markdown",
   "metadata": {},
   "source": [
    "### Explore the Data"
   ]
  },
  {
   "cell_type": "code",
   "execution_count": null,
   "metadata": {},
   "outputs": [],
   "source": [
    "# Read the csv file into a pandas DataFrame\n",
    "allData = pd.read_csv('data/Iowa_Liquor_Sales.csv')\n"
   ]
  },
  {
   "cell_type": "code",
   "execution_count": null,
   "metadata": {},
   "outputs": [],
   "source": [
    "allData.head()"
   ]
  },
  {
   "cell_type": "code",
   "execution_count": null,
   "metadata": {},
   "outputs": [],
   "source": [
    "# allData.describe()"
   ]
  },
  {
   "cell_type": "code",
   "execution_count": null,
   "metadata": {},
   "outputs": [],
   "source": [
    "allData.dtypes"
   ]
  },
  {
   "cell_type": "code",
   "execution_count": null,
   "metadata": {},
   "outputs": [],
   "source": [
    "allData.head()"
   ]
  },
  {
   "cell_type": "code",
   "execution_count": null,
   "metadata": {},
   "outputs": [],
   "source": [
    "#total records in the dataframe\n",
    "len(allData.index)"
   ]
  },
  {
   "cell_type": "code",
   "execution_count": null,
   "metadata": {},
   "outputs": [],
   "source": [
    "#how many rows and columns?\n",
    "allData.shape"
   ]
  },
  {
   "cell_type": "code",
   "execution_count": null,
   "metadata": {},
   "outputs": [],
   "source": [
    "#change the month datatype\n",
    "allData['Date'] = pd.to_datetime(allData['Date'])"
   ]
  },
  {
   "cell_type": "code",
   "execution_count": null,
   "metadata": {},
   "outputs": [],
   "source": [
    "allData.dtypes"
   ]
  },
  {
   "cell_type": "code",
   "execution_count": null,
   "metadata": {},
   "outputs": [],
   "source": [
    "print(allData.index)"
   ]
  },
  {
   "cell_type": "code",
   "execution_count": null,
   "metadata": {},
   "outputs": [],
   "source": [
    "#change the index of the df to the Date\n",
    "#allData.set_index(allData[\"Date\"],inplace=True)"
   ]
  },
  {
   "cell_type": "code",
   "execution_count": null,
   "metadata": {},
   "outputs": [],
   "source": [
    "allData.head()"
   ]
  },
  {
   "cell_type": "code",
   "execution_count": null,
   "metadata": {},
   "outputs": [],
   "source": [
    "#count the records for each year\n",
    "#countYear = allData.groupby([allData['Date'].dt.year.rename('year')]).agg({'count'})\n",
    "#Keep for reference, not efficient\n",
    "\n",
    "#countYear.head()"
   ]
  },
  {
   "cell_type": "code",
   "execution_count": null,
   "metadata": {},
   "outputs": [],
   "source": [
    "#Keep only the rows which have a date of 2018 or 2019. \n",
    "#total for 2018 (2,355,558) + 2019 (1,315,896) = 3,671,454\n",
    "\n",
    "#recentData = allData[(allData['Date'] > '2017-12-31') & (allData['Date'] <= '2020-1-1')].reset_index()"
   ]
  },
  {
   "cell_type": "code",
   "execution_count": null,
   "metadata": {},
   "outputs": [],
   "source": [
    "#count the records for each year\n",
    "allData[\"Date\"].dt.month.value_counts()"
   ]
  },
  {
   "cell_type": "markdown",
   "metadata": {},
   "source": [
    "### Create a df for only the football months"
   ]
  },
  {
   "cell_type": "code",
   "execution_count": null,
   "metadata": {},
   "outputs": [],
   "source": [
    "#new df for only the football months:  Aug - Dec\n",
    "\n",
    "fbAll_df = allData.query(\"Date.dt.month > 7\").reset_index()\n",
    "\n",
    "#if you want to use exact dates:\n",
    "#add inplace=True if you are modifying an existing df\n",
    "#df.query(\"Date <= '2017-01-31' & Date >= '2017-05-01' \", inplace=True)\n"
   ]
  },
  {
   "cell_type": "code",
   "execution_count": null,
   "metadata": {},
   "outputs": [],
   "source": [
    "#ensure only the football months are present\n",
    "\n",
    "fbAll_df[\"Date\"].dt.month.value_counts()"
   ]
  },
  {
   "cell_type": "code",
   "execution_count": null,
   "metadata": {},
   "outputs": [],
   "source": [
    "#total records in the dataframe\n",
    "len(fbAll_df.index)"
   ]
  },
  {
   "cell_type": "code",
   "execution_count": null,
   "metadata": {},
   "outputs": [],
   "source": [
    "#determine the total volume sold by city\n",
    "\n",
    "cityTotal = fbAll_df.groupby(\"City\").agg({\"Sale (Dollars)\":sum})\n",
    "cityTotal.head()"
   ]
  },
  {
   "cell_type": "code",
   "execution_count": null,
   "metadata": {},
   "outputs": [],
   "source": [
    "#noticed the city data is in mixed case\n",
    "#count of all cities, lower case so each city is counted only once\n",
    "\n",
    "fbAll_df[\"City\"].str.lower().value_counts()\n"
   ]
  },
  {
   "cell_type": "code",
   "execution_count": null,
   "metadata": {},
   "outputs": [],
   "source": [
    "#use only Ames (Iowa State) and Iowa City (univ of Iowa) \n",
    "#create a new df\n",
    "newName = fbAll_df\n",
    "\n",
    "#change the name of the largest cities (only need Ames and Iowa City, others are for eyeball check)\n",
    "newName.loc[newName['City']=='AMES', 'City'] = \"Ames\"\n",
    "newName.loc[newName['City']=='IOWA CITY', 'City'] = \"Iowa City\"\n",
    "newName.loc[newName['City']=='DES MOINES', 'City'] = \"Des Moines\"\n",
    "newName.loc[newName['City']=='CEDAR RAPIDS', 'City'] = \"Cedar Rapids\""
   ]
  },
  {
   "cell_type": "code",
   "execution_count": null,
   "metadata": {},
   "outputs": [],
   "source": [
    "#confirm the cities are no longer duplicated\n",
    "\n",
    "newName[\"City\"].value_counts()"
   ]
  },
  {
   "cell_type": "markdown",
   "metadata": {},
   "source": [
    "### Create a df for only the two college towns"
   ]
  },
  {
   "cell_type": "code",
   "execution_count": null,
   "metadata": {},
   "outputs": [],
   "source": [
    "#Create new df, with only Ames and Iowa City\n",
    "\n",
    "twoCity = newName[(newName.City == 'Iowa City') | (newName.City == 'Ames')].reset_index()"
   ]
  },
  {
   "cell_type": "code",
   "execution_count": null,
   "metadata": {},
   "outputs": [],
   "source": [
    "#confirm only the two cities are in the df\n",
    "\n",
    "twoCity['City'].value_counts()"
   ]
  },
  {
   "cell_type": "code",
   "execution_count": null,
   "metadata": {},
   "outputs": [],
   "source": [
    "twoCity.head()"
   ]
  },
  {
   "cell_type": "code",
   "execution_count": null,
   "metadata": {},
   "outputs": [],
   "source": [
    "#rename the columns and remove spaces and parenthesis\n",
    "\n",
    "twoCity.columns = ['level_0',\n",
    " 'index',\n",
    " 'Invoice_Item_Number',\n",
    " 'Date',\n",
    " 'Store_Number',\n",
    " 'Store_Name',\n",
    " 'Address',\n",
    " 'City',\n",
    " 'Zip_Code',\n",
    " 'Store_Location',\n",
    " 'County_Number',\n",
    " 'County',\n",
    " 'Category',\n",
    " 'Category_Name',\n",
    " 'Vendor_Number',\n",
    " 'Vendor_Name',\n",
    " 'Item_Number',\n",
    " 'Item_Description',\n",
    " 'Pack',\n",
    " 'Bottle _volume_ml',\n",
    " 'State_Bottle_Cost',\n",
    " 'State_Bottle_Retail',\n",
    " 'Bottles_Sold',\n",
    " 'Sale_Dollars',\n",
    " 'Volume_Sold_Liters',\n",
    " 'Volume_Sold_Gallons',\n",
    " 'Iowa_ZIP_Code_Tabulation_Areas',\n",
    " 'Iowa_Watershed_Sub-Basins_HUC_08',\n",
    " 'Iowa_Watersheds_HUC_10',\n",
    " 'County_Boundaries_of_Iowa',\n",
    " 'US_Counties']"
   ]
  },
  {
   "cell_type": "code",
   "execution_count": null,
   "metadata": {},
   "outputs": [],
   "source": [
    "#eyeball check\n",
    "#twoCity.head()"
   ]
  },
  {
   "cell_type": "code",
   "execution_count": null,
   "metadata": {},
   "outputs": [],
   "source": [
    "#how many rows & columns?\n",
    "twoCity.shape"
   ]
  },
  {
   "cell_type": "code",
   "execution_count": null,
   "metadata": {},
   "outputs": [],
   "source": [
    "#confirm data is still for the football months\n",
    "twoCity[\"Date\"].dt.month.value_counts()"
   ]
  },
  {
   "cell_type": "code",
   "execution_count": null,
   "metadata": {},
   "outputs": [],
   "source": [
    "twoCity_reduced = twoCity[['Date', 'City', 'Sale_Dollars']]"
   ]
  },
  {
   "cell_type": "code",
   "execution_count": null,
   "metadata": {},
   "outputs": [],
   "source": [
    "#reduce the df to only include the features needed for the regression model\n",
    "twoCity_reduced.head()"
   ]
  },
  {
   "cell_type": "code",
   "execution_count": null,
   "metadata": {},
   "outputs": [],
   "source": [
    "#save this df to a csv\n",
    "# why?   backup, just in case\n",
    "twoCity_reduced.to_csv('data/twoCity_reduced.csv')"
   ]
  },
  {
   "cell_type": "markdown",
   "metadata": {},
   "source": [
    "### Create a df for only Ames"
   ]
  },
  {
   "cell_type": "code",
   "execution_count": null,
   "metadata": {},
   "outputs": [],
   "source": [
    "#create a df for Ames\n",
    "ames1 = twoCity_reduced[(twoCity_reduced.City == 'Ames')].reset_index()"
   ]
  },
  {
   "cell_type": "code",
   "execution_count": null,
   "metadata": {},
   "outputs": [],
   "source": [
    "#eyeball check, ensure the counts\n",
    "ames1['City'].value_counts()"
   ]
  },
  {
   "cell_type": "code",
   "execution_count": null,
   "metadata": {},
   "outputs": [],
   "source": [
    "#create a df of only the ames sales\n",
    "ames2 = ames1[['Date', 'Sale_Dollars']]"
   ]
  },
  {
   "cell_type": "code",
   "execution_count": null,
   "metadata": {},
   "outputs": [],
   "source": [
    "ames2.head()"
   ]
  },
  {
   "cell_type": "code",
   "execution_count": null,
   "metadata": {},
   "outputs": [],
   "source": [
    "#save the final Ames dataframe to a csv\n",
    "ames2.to_csv('data/ames2.csv')"
   ]
  },
  {
   "cell_type": "markdown",
   "metadata": {},
   "source": [
    "### Create a small dataset for Ames"
   ]
  },
  {
   "cell_type": "code",
   "execution_count": null,
   "metadata": {},
   "outputs": [],
   "source": [
    "#amesShort = ames2.head(20)"
   ]
  },
  {
   "cell_type": "code",
   "execution_count": null,
   "metadata": {},
   "outputs": [],
   "source": [
    "#amesShort.head()"
   ]
  },
  {
   "cell_type": "code",
   "execution_count": null,
   "metadata": {},
   "outputs": [],
   "source": [
    "#save the amesShort df as a new csv to have a smaller set of data for further manipulation\n",
    "#amesShort.to_csv('data/amesShort.csv')"
   ]
  },
  {
   "cell_type": "markdown",
   "metadata": {},
   "source": [
    "### Create a df for only Iowa City"
   ]
  },
  {
   "cell_type": "code",
   "execution_count": null,
   "metadata": {},
   "outputs": [],
   "source": [
    "#create a df for Iowa City\n",
    "iowa1 = twoCity_reduced[(twoCity_reduced.City == 'Iowa City')].reset_index()"
   ]
  },
  {
   "cell_type": "code",
   "execution_count": null,
   "metadata": {},
   "outputs": [],
   "source": [
    "#eyeball check, ensure the counts\n",
    "iowa1['City'].value_counts()"
   ]
  },
  {
   "cell_type": "code",
   "execution_count": null,
   "metadata": {},
   "outputs": [],
   "source": [
    "#create a df of only the Iowa City sales\n",
    "iowa2 = iowa1[['Date', 'Sale_Dollars']]"
   ]
  },
  {
   "cell_type": "code",
   "execution_count": null,
   "metadata": {},
   "outputs": [],
   "source": [
    "iowa2.head()"
   ]
  },
  {
   "cell_type": "code",
   "execution_count": null,
   "metadata": {},
   "outputs": [],
   "source": [
    "#save the final dataframe to a csv\n",
    "iowa2.to_csv('data/iowaCity2.csv')"
   ]
  }
 ],
 "metadata": {
  "kernelspec": {
   "display_name": "Python 3",
   "language": "python",
   "name": "python3"
  },
  "language_info": {
   "codemirror_mode": {
    "name": "ipython",
    "version": 3
   },
   "file_extension": ".py",
   "mimetype": "text/x-python",
   "name": "python",
   "nbconvert_exporter": "python",
   "pygments_lexer": "ipython3",
   "version": "3.7.1"
  }
 },
 "nbformat": 4,
 "nbformat_minor": 2
}
