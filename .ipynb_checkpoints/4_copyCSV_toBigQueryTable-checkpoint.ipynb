{
 "cells": [
  {
   "cell_type": "code",
   "execution_count": 1,
   "metadata": {},
   "outputs": [],
   "source": [
    "#This notebook will copy the csv's created for the IOWA analysis as tables to BigQuery"
   ]
  },
  {
   "cell_type": "code",
   "execution_count": 2,
   "metadata": {},
   "outputs": [],
   "source": [
    "#import libraries for big query\n",
    "from google.cloud import bigquery\n",
    "from google.oauth2 import service_account\n",
    "\n",
    "#import libraries for python\n",
    "import pandas as pd\n",
    "import json  \n",
    "from pandas.io.json import json_normalize \n",
    "import matplotlib.pyplot as plt "
   ]
  },
  {
   "cell_type": "code",
   "execution_count": 3,
   "metadata": {},
   "outputs": [],
   "source": [
    "# define location of services file\n",
    "\n",
    "import os\n",
    "os.environ[\"GOOGLE_APPLICATION_CREDENTIALS\"] = \"iowaServiceKey.json\""
   ]
  },
  {
   "cell_type": "code",
   "execution_count": 7,
   "metadata": {},
   "outputs": [],
   "source": [
    "#create client to bigquery\n",
    "client = bigquery.Client()"
   ]
  },
  {
   "cell_type": "code",
   "execution_count": 8,
   "metadata": {},
   "outputs": [],
   "source": [
    "#Step 1: convert the csv to a df\n",
    "\n",
    "twoCity_reduced = pd.read_csv('data/twoCity_reduced.csv')\n",
    "ames2 = pd.read_csv('data/ames2.csv')\n",
    "iowaCity2 = pd.read_csv('data/iowaCity2.csv')"
   ]
  },
  {
   "cell_type": "code",
   "execution_count": 12,
   "metadata": {},
   "outputs": [],
   "source": [
    "#Step 2:   Save the df to GCP\n",
    "\n",
    "dataset_ref = client.dataset(\"iowa_data\", project = \"iowa-alcohol\")\n",
    "table_ref = dataset_ref.table(\"cityReduced\")\n",
    "job = client.load_table_from_dataframe(twoCity_reduced, table_ref, location=\"US\")"
   ]
  },
  {
   "cell_type": "code",
   "execution_count": 13,
   "metadata": {},
   "outputs": [],
   "source": [
    "dataset_ref = client.dataset(\"iowa_data\", project = \"iowa-alcohol\")\n",
    "table_ref = dataset_ref.table(\"amesFootballData\")\n",
    "job = client.load_table_from_dataframe(ames2, table_ref, location=\"US\")"
   ]
  },
  {
   "cell_type": "code",
   "execution_count": 14,
   "metadata": {},
   "outputs": [],
   "source": [
    "dataset_ref = client.dataset(\"iowa_data\", project = \"iowa-alcohol\")\n",
    "table_ref = dataset_ref.table(\"iowaCityFootballData\")\n",
    "job = client.load_table_from_dataframe(iowaCity2, table_ref, location=\"US\")"
   ]
  },
  {
   "cell_type": "code",
   "execution_count": null,
   "metadata": {},
   "outputs": [],
   "source": []
  }
 ],
 "metadata": {
  "kernelspec": {
   "display_name": "Python 3",
   "language": "python",
   "name": "python3"
  },
  "language_info": {
   "codemirror_mode": {
    "name": "ipython",
    "version": 3
   },
   "file_extension": ".py",
   "mimetype": "text/x-python",
   "name": "python",
   "nbconvert_exporter": "python",
   "pygments_lexer": "ipython3",
   "version": "3.7.1"
  }
 },
 "nbformat": 4,
 "nbformat_minor": 2
}
